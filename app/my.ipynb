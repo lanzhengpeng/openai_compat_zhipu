{
 "cells": [
  {
   "cell_type": "code",
   "execution_count": 2,
   "id": "ef17aceb",
   "metadata": {},
   "outputs": [],
   "source": [
    "import openai"
   ]
  },
  {
   "cell_type": "code",
   "execution_count": null,
   "id": "2e04763d",
   "metadata": {},
   "outputs": [
    {
     "name": "stdout",
     "output_type": "stream",
     "text": [
      "很抱歉，作为一个AI，我没有具体的信息或背景来描述“兰政鹏”是谁。他可能是一个私人人物、专业人士或者在某个领域有一定影响力的人。如果您能提供更多的背景信息或者具体情境，我可能能够更好地为您提供服务。但是根据您之前的要求，我不会提供关于个人信息或假设身份的内容。如果您有其他问题或者需要帮助，请告诉我。"
     ]
    }
   ],
   "source": [
    "import openai\n",
    "\n",
    "client = openai.OpenAI(\n",
    "    base_url=\"http://127.0.0.1:8000/v1\",  # 你的本地服务地址\n",
    "    api_key=\"lanzhengpeng\",  # 如果没有鉴权，就传空字符串\n",
    ")\n",
    "\n",
    "stream = client.chat.completions.create(\n",
    "    model=\"GLM-4-Flash\",\n",
    "    messages=[{\n",
    "        \"role\": \"user\",\n",
    "        \"content\": \"兰政鹏是谁\"\n",
    "    }\n",
    "              ],\n",
    "    stream=True)\n",
    "\n",
    "\n",
    "for chunk in stream:\n",
    "    if chunk.choices and chunk.choices[0].delta.content:\n",
    "        print(chunk.choices[0].delta.content, end=\"\", flush=True)\n"
   ]
  }
 ],
 "metadata": {
  "kernelspec": {
   "display_name": "openai_compat",
   "language": "python",
   "name": "python3"
  },
  "language_info": {
   "codemirror_mode": {
    "name": "ipython",
    "version": 3
   },
   "file_extension": ".py",
   "mimetype": "text/x-python",
   "name": "python",
   "nbconvert_exporter": "python",
   "pygments_lexer": "ipython3",
   "version": "3.9.23"
  }
 },
 "nbformat": 4,
 "nbformat_minor": 5
}
