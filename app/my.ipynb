{
 "cells": [
  {
   "cell_type": "code",
   "execution_count": 3,
   "id": "2e04763d",
   "metadata": {},
   "outputs": [
    {
     "name": "stdout",
     "output_type": "stream",
     "text": [
      "作为兰政鹏先生的人工智能助手，我可以提供以下服务：\n",
      "\n",
      "1. **信息检索**：快速查找各种信息，包括新闻、研究、报告等。\n",
      "\n",
      "2. **日程管理**：协助安排和跟踪日程，提醒重要日期和会议。\n",
      "\n",
      "3. **通讯服务**：发送邮件、短信、社交媒体更新，或回复信息。\n",
      "\n",
      "4. **文件处理**：协助创建、编辑和整理文件，包括但不限于文档、演示文稿和表格。\n",
      "\n",
      "5. **数据分析和可视化**：处理和分析数据，并以图表、图形或报告的形式展示结果。\n",
      "\n",
      "6. **翻译**：进行语言翻译，帮助理解不同语言的信息。\n",
      "\n",
      "7. **学习与教育**：提供教育资源和在线课程信息，协助学习和个人发展。\n",
      "\n",
      "8. **生活助理**：提供交通、天气、健康和健身等日常生活的信息和建议。\n",
      "\n",
      "9. **技术支持**：帮助解决与计算机、软件或其他电子设备相关的问题。\n",
      "\n",
      "10. **创意支持**：提供灵感和创意思维，协助创作和设计。\n",
      "\n",
      "我的目标是确保兰政鹏先生能够高效、及时地获取所需的信息和服务，以提高其工作效率和生活质量。"
     ]
    }
   ],
   "source": [
    "import openai\n",
    "client = openai.OpenAI(\n",
    "    base_url=\"http://127.0.0.1:8000/v1\",  # 你的本地服务地址\n",
    "    api_key=\"lanzhengpeng\",  # 如果没有鉴权，就传空字符串\n",
    ")\n",
    "\n",
    "stream = client.chat.completions.create(\n",
    "    model=\"GLM-4-Flash\",\n",
    "    messages=[{\n",
    "        \"role\": \"user\",\n",
    "        \"content\": \"你可以做什么\"\n",
    "    }\n",
    "              ],\n",
    "    stream=True)\n",
    "\n",
    "\n",
    "for chunk in stream:\n",
    "    if chunk.choices and chunk.choices[0].delta.content:\n",
    "        print(chunk.choices[0].delta.content, end=\"\", flush=True)\n"
   ]
  },
  {
   "cell_type": "code",
   "execution_count": 5,
   "id": "fd361268",
   "metadata": {},
   "outputs": [
    {
     "name": "stdout",
     "output_type": "stream",
     "text": [
      "模型回复： 这张图片展示了一位长着金色长发的女士坐在户外的土坡上，背向镜头，凝视前方城市景象的场景。天色处于黄昏时段，天空呈现由蓝色到橙色的渐变色彩，光线柔和。远处可见城市建筑群落，建筑物与设施亮起的灯光透露出夜晚即将来临的气息；画面中还能看到几座高大的工业风格烟囱类结构，增添了场景的独特质感。这位女士身着黑色上衣、浅色系裤子，脚蹬休闲鞋，正手持一个红色的容器（推测为饮品瓶）饮用。整体画面营造出宁静、放松的氛围，展现了自然景观与城市黄昏美景交融的画面，传递出悠闲惬意的生活气息。\n"
     ]
    }
   ],
   "source": [
    "import openai\n",
    "client = openai.OpenAI(\n",
    "    base_url=\"http://127.0.0.1:8000/v1\",  # 你的本地服务地址\n",
    "    api_key=\"lanzhengpeng\",  # 如果没有鉴权，就传空字符串\n",
    ")\n",
    "\n",
    "response = client.chat.completions.create(\n",
    "    model=\"glm-4.1v-thinking-flashx\",\n",
    "    messages=[\n",
    "        {\n",
    "            \"role\": \"user\",\n",
    "            \"content\": [\n",
    "                {\"type\": \"text\", \"text\": \"请解释这张图片\"},\n",
    "                {\"type\": \"image_url\", \"image_url\": {\"url\": \"https://img.iplaysoft.com/wp-content/uploads/2019/free-images/free_stock_photo.jpg\"}}\n",
    "            ]\n",
    "        }\n",
    "    ],\n",
    "    stream=False\n",
    ")\n",
    "\n",
    "print(\"模型回复：\", response.choices[0].message.content)\n"
   ]
  }
 ],
 "metadata": {
  "kernelspec": {
   "display_name": "openai_zhipu_env",
   "language": "python",
   "name": "python3"
  },
  "language_info": {
   "codemirror_mode": {
    "name": "ipython",
    "version": 3
   },
   "file_extension": ".py",
   "mimetype": "text/x-python",
   "name": "python",
   "nbconvert_exporter": "python",
   "pygments_lexer": "ipython3",
   "version": "3.11.13"
  }
 },
 "nbformat": 4,
 "nbformat_minor": 5
}
