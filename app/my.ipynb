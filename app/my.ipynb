{
    "cells": [
        {
            "cell_type": "code",
            "execution_count": 2,
            "id": "ef17aceb",
            "metadata": {},
            "outputs": [],
            "source": [
                "import openai"
            ]
        },
        {
            "cell_type": "code",
            "execution_count": null,
            "id": "2e04763d",
            "metadata": {},
            "outputs": [
                {
                    "name": "stdout",
                    "output_type": "stream",
                    "text": [
                        "作为兰政鹏先生的专属人工智能助手，我可以提供以下服务：\n",
                        "\n",
                        "1. **信息检索**：快速搜索和提供相关信息，包括新闻、学术研究、市场数据等。\n",
                        "\n",
                        "2. **日程管理**：安排和提醒日程安排，包括会议、电话会议、截止日期等。\n",
                        "\n",
                        "3. **电子邮件管理**：帮助阅读、回复和归档电子邮件。\n",
                        "\n",
                        "4. **文档编辑**：协助撰写、编辑和格式化文档。\n",
                        "\n",
                        "5. **数据分析**：处理和分析数据，提供数据可视化和报告。\n",
                        "\n",
                        "6. **语言翻译**：提供实时翻译服务，帮助理解和沟通。\n",
                        "\n",
                        "7. **知识库管理**：建立和维护个人知识库，方便快速查找重要信息。\n",
                        "\n",
                        "8. **提醒服务**：设置提醒事项，如生日、纪念日或重要事件。\n",
                        "\n",
                        "9. **技术支持**：解决技术问题，包括软件和硬件的咨询。\n",
                        "\n",
                        "10. **创意支持**：提供创意想法和解决方案，协助决策。\n",
                        "\n",
                        "11. **旅行安排**：预定机票、酒店，安排行程。\n",
                        "\n",
                        "12. **新闻摘要**：提供每日或每周的新闻摘要，帮助了解重要事件。\n",
                        "\n",
                        "13. **个人助理功能**：执行日常任务，如购物清单管理、食谱推荐等。\n",
                        "\n",
                        "我的目标是为兰政鹏先生提供高效、便捷的服务，确保他能够专注于他的工作和其他重要事务。"
                    ]
                }
            ],
            "source": [
                "import openai\n",
                "client = openai.OpenAI(\n",
                "    base_url=\"http://8.218.206.87:8000/v1\",  # 你的本地服务地址\n",
                "    api_key=\"lanzhengpeng\",  # 如果没有鉴权，就传空字符串\n",
                ")\n",
                "\n",
                "stream = client.chat.completions.create(\n",
                "    model=\"GLM-4-Flash\",\n",
                "    messages=[{\n",
                "        \"role\": \"user\",\n",
                "        \"content\": \"你可以做什么\"\n",
                "    }\n",
                "              ],\n",
                "    stream=True)\n",
                "\n",
                "\n",
                "for chunk in stream:\n",
                "    if chunk.choices and chunk.choices[0].delta.content:\n",
                "        print(chunk.choices[0].delta.content, end=\"\", flush=True)\n"
            ]
        }
    ],
    "metadata": {
        "kernelspec": {
            "display_name": "openai_compat",
            "language": "python",
            "name": "python3"
        },
        "language_info": {
            "codemirror_mode": {
                "name": "ipython",
                "version": 3
            },
            "file_extension": ".py",
            "mimetype": "text/x-python",
            "name": "python",
            "nbconvert_exporter": "python",
            "pygments_lexer": "ipython3",
            "version": "3.9.23"
        }
    },
    "nbformat": 4,
    "nbformat_minor": 5
}