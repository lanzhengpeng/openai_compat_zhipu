{
 "cells": [
  {
   "cell_type": "code",
   "execution_count": 1,
   "id": "2e04763d",
   "metadata": {},
   "outputs": [
    {
     "name": "stdout",
     "output_type": "stream",
     "text": [
      "尊敬的兰政鹏先生，作为您的专属人工智能助手，我可以提供以下服务：\n",
      "\n",
      "1. **信息检索**：快速查找和检索各种信息，包括新闻、研究、学术论文、市场数据等。\n",
      "2. **日程管理**：协助您安排和跟踪日程，提醒重要事件和约会。\n",
      "3. **写作辅助**：帮助撰写文件、报告、提案等，包括内容的构思、草稿的撰写和语言的润色。\n",
      "4. **数据分析**：对数据集进行分析，提供数据可视化和趋势预测。\n",
      "5. **语言翻译**：提供多种语言的翻译服务，帮助沟通无障碍。\n",
      "6. **技术支持和故障排除**：对于您遇到的电脑或软件问题提供技术支持。\n",
      "7. **新闻摘要**：提供国际和国内新闻的概要，帮助您快速了解最新的信息动态。\n",
      "8. **投资建议**：基于市场数据和历史信息，为您的投资决策提供参考。\n",
      "9. **学习工具**：提供教育资源和学习材料，帮助您提升知识和技能。\n",
      "10. **日常咨询**：根据您的需求，回答各种问题，比如旅行建议、健康咨询等。\n",
      "\n",
      "在您的指令下，我将全力以赴地服务于您，确保提供的帮助既准确又高效。"
     ]
    }
   ],
   "source": [
    "import openai\n",
    "client = openai.OpenAI(\n",
    "    base_url=\"http://127.0.0.1:8000/v1\",  # 你的本地服务地址\n",
    "    api_key=\"lanzhengpeng\",  # 如果没有鉴权，就传空字符串\n",
    ")\n",
    "\n",
    "stream = client.chat.completions.create(\n",
    "    model=\"GLM-4-Flash\",\n",
    "    messages=[{\n",
    "        \"role\": \"user\",\n",
    "        \"content\": \"你可以做什么\"\n",
    "    }\n",
    "              ],\n",
    "    stream=True)\n",
    "\n",
    "\n",
    "for chunk in stream:\n",
    "    if chunk.choices and chunk.choices[0].delta.content:\n",
    "        print(chunk.choices[0].delta.content, end=\"\", flush=True)\n"
   ]
  }
 ],
 "metadata": {
  "kernelspec": {
   "display_name": "openai_zhipu_env",
   "language": "python",
   "name": "python3"
  },
  "language_info": {
   "codemirror_mode": {
    "name": "ipython",
    "version": 3
   },
   "file_extension": ".py",
   "mimetype": "text/x-python",
   "name": "python",
   "nbconvert_exporter": "python",
   "pygments_lexer": "ipython3",
   "version": "3.11.13"
  }
 },
 "nbformat": 4,
 "nbformat_minor": 5
}
