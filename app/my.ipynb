{
 "cells": [
  {
   "cell_type": "code",
   "execution_count": 5,
   "id": "2e04763d",
   "metadata": {},
   "outputs": [
    {
     "name": "stdout",
     "output_type": "stream",
     "text": [
      "作为兰政鹏先生的人工智能助手，我可以提供以下服务：\n",
      "\n",
      "1. **信息查询**：快速检索和整理各类信息，包括新闻、学术论文、市场数据等。\n",
      "2. **日程管理**：安排和调整日程，提醒重要会议、约会或截止日期。\n",
      "3. **文档处理**：撰写报告、邮件，编辑文档，以及进行语言翻译。\n",
      "4. **数据分析**：帮助分析数据，提供图表和总结，辅助决策。\n",
      "5. **在线研究**：对特定主题进行深入研究，提供详尽的信息和见解。\n",
      "6. **技术支持**：解决软件或硬件的问题，提供技术相关的建议和帮助。\n",
      "7. **语言学习**：辅助学习外语，提供词汇和语法练习。\n",
      "8. **旅行安排**：规划行程，预订机票、酒店等。\n",
      "9. **健康咨询**：提供基于健康信息的建议，不替代专业医疗意见。\n",
      "10. **娱乐休闲**：推荐电影、音乐、书籍等，提供轻松话题的讨论。\n",
      "\n",
      "在任何时候，只要兰政鹏先生提出要求，我都会尽力提供准确、清晰、友好的回答和服务。"
     ]
    }
   ],
   "source": [
    "import openai\n",
    "client = openai.OpenAI(\n",
    "    base_url=\"http://127.0.0.1:8000/v1\",  # 你的本地服务地址\n",
    "    api_key=\"lanzhengpeng\",  # 如果没有鉴权，就传空字符串\n",
    ")\n",
    "\n",
    "stream = client.chat.completions.create(\n",
    "    model=\"GLM-4-Flash\",\n",
    "    messages=[{\n",
    "        \"role\": \"user\",\n",
    "        \"content\": \"你可以做什么\"\n",
    "    }\n",
    "              ],\n",
    "    stream=True)\n",
    "\n",
    "\n",
    "for chunk in stream:\n",
    "    if chunk.choices and chunk.choices[0].delta.content:\n",
    "        print(chunk.choices[0].delta.content, end=\"\", flush=True)\n"
   ]
  }
 ],
 "metadata": {
  "kernelspec": {
   "display_name": "openai_zhipu_env",
   "language": "python",
   "name": "python3"
  },
  "language_info": {
   "codemirror_mode": {
    "name": "ipython",
    "version": 3
   },
   "file_extension": ".py",
   "mimetype": "text/x-python",
   "name": "python",
   "nbconvert_exporter": "python",
   "pygments_lexer": "ipython3",
   "version": "3.11.13"
  }
 },
 "nbformat": 4,
 "nbformat_minor": 5
}
